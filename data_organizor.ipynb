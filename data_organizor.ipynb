{
 "cells": [
  {
   "cell_type": "code",
   "execution_count": 2,
   "metadata": {},
   "outputs": [],
   "source": [
    "import fnmatch\n",
    "import os\n",
    "import csv\n",
    "import sys\n",
    "import shutil"
   ]
  },
  {
   "cell_type": "code",
   "execution_count": 40,
   "metadata": {},
   "outputs": [],
   "source": [
    "data_path = '/media/auv/Untitled/201009_PacStorm/d20100920_1'\n",
    "images_path = os.path.join(data_path , 'angle_images/')\n",
    "annotation_path =  os.path.join(data_path , \"angle_Annotations/\")\n",
    "unannotated_images =  os.path.join(data_path , \"angle_unannotated_images/\")\n",
    "\n",
    "images = []\n",
    "annotations = []\n",
    "annotated = []\n",
    "unannotated = []\n"
   ]
  },
  {
   "cell_type": "code",
   "execution_count": 41,
   "metadata": {},
   "outputs": [
    {
     "name": "stdout",
     "output_type": "stream",
     "text": [
      "3883\n",
      "2149\n"
     ]
    }
   ],
   "source": [
    "\n",
    "for file in os.listdir(images_path):\n",
    "    fileBasename = os.path.splitext(file)[0]\n",
    "    images.append(fileBasename)\n",
    "print(len(images))\n",
    "\n",
    "for file in os.listdir(annotation_path):\n",
    "    fileBasename = os.path.splitext(file)[0]\n",
    "    annotations.append(fileBasename)\n",
    "print( len(annotations) )\n"
   ]
  },
  {
   "cell_type": "code",
   "execution_count": 42,
   "metadata": {},
   "outputs": [],
   "source": [
    "annotated = []\n",
    "not_found_images= []\n",
    "unannotated = []\n",
    "for image in annotations:\n",
    "    if image in images:\n",
    "        annotated.append(image)\n",
    "    else:\n",
    "        not_found_images.append(image)\n",
    "\n",
    "for image in images:\n",
    "    if image not in annotated:\n",
    "        unannotated.append(image)"
   ]
  },
  {
   "cell_type": "code",
   "execution_count": 43,
   "metadata": {},
   "outputs": [
    {
     "name": "stdout",
     "output_type": "stream",
     "text": [
      "2149\n",
      "1734\n",
      "0\n"
     ]
    }
   ],
   "source": [
    "print(len(annotated))\n",
    "print(len(unannotated))\n",
    "print(len(not_found_images))\n",
    "for a in not_found_images :\n",
    "    print(a)"
   ]
  },
  {
   "cell_type": "code",
   "execution_count": 44,
   "metadata": {},
   "outputs": [],
   "source": [
    "with open(os.path.join( data_path , 'angle_images.csv') , 'w') as csvfile:\n",
    "    filewriter = csv.writer(csvfile, delimiter=',', quotechar=\"|\", quoting=csv.QUOTE_MINIMAL)\n",
    "    for image in images:\n",
    "        if image in annotated:\n",
    "            filewriter.writerow([image+\".jpg\"])\n",
    "        else :\n",
    "            shutil.move(os.path.join(images_path, image+\".jpg\"), os.path.join(unannotated_images, image+\".jpg\") )"
   ]
  },
  {
   "cell_type": "code",
   "execution_count": 21,
   "metadata": {},
   "outputs": [],
   "source": [
    "images_path = \"/media/auv/Untitled/200510_PMFS/Dive14_StLuciaBank/images/\"\n",
    "annotation_path = \"/media/auv/Untitled/200510_PMFS/Dive14_StLuciaBank/Annotations/\"\n",
    "\n",
    "for file in os.listdir(annotation_path):\n",
    "    #print(os.path.join(annotation_path , file+\".xml\"))\n",
    "    shutil.move( os.path.join(annotation_path ,file) , os.path.join(annotation_path , file+\".xml\"))"
   ]
  }
 ],
 "metadata": {
  "kernelspec": {
   "display_name": "Python 3",
   "language": "python",
   "name": "python3"
  },
  "language_info": {
   "codemirror_mode": {
    "name": "ipython",
    "version": 3
   },
   "file_extension": ".py",
   "mimetype": "text/x-python",
   "name": "python",
   "nbconvert_exporter": "python",
   "pygments_lexer": "ipython3",
   "version": "3.6.5"
  }
 },
 "nbformat": 4,
 "nbformat_minor": 2
}
